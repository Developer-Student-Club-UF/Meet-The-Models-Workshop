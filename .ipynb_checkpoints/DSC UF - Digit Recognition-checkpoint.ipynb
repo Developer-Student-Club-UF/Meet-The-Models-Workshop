{
 "cells": [
  {
   "cell_type": "markdown",
   "metadata": {},
   "source": [
    "# scikit-learn Digit Recognition\n",
    "scikit-learn has a few small 'toy' datasets that you can just import and load directly without any downloads or external websites. These are too small to represent actual real world machine learning tasks, but they are helpful when you want to get practice on machine learning without using a very complicated dataset.\n",
    "\n",
    "Code mostly taken from: https://github.com/mGalarnyk/Python_Tutorials/blob/master/Sklearn/Logistic_Regression/LogisticRegression_toy_digits.ipynb (GitHub: mGalarnyk)"
   ]
  },
  {
   "cell_type": "markdown",
   "metadata": {},
   "source": [
    "### Imports and setup"
   ]
  },
  {
   "cell_type": "code",
   "execution_count": null,
   "metadata": {},
   "outputs": [],
   "source": [
    "# Our actual dataset\n",
    "from sklearn.datasets import load_digits\n",
    "\n",
    "# Data processing\n",
    "from sklearn.model_selection import train_test_split\n",
    "import numpy as np\n",
    "\n",
    "# Data visualization\n",
    "import matplotlib.pyplot as plt\n",
    "import matplotlib.ticker as plticker\n",
    "from sklearn import metrics\n",
    "%matplotlib inline"
   ]
  },
  {
   "cell_type": "markdown",
   "metadata": {},
   "source": [
    "### Load dataset and visualization"
   ]
  },
  {
   "cell_type": "code",
   "execution_count": null,
   "metadata": {
    "scrolled": true
   },
   "outputs": [],
   "source": [
    "digits = load_digits()\n",
    "print(digits.data.shape)\n",
    "print(digits.target.shape)\n",
    "print(digits.data[0].reshape(8,8))"
   ]
  },
  {
   "cell_type": "code",
   "execution_count": null,
   "metadata": {},
   "outputs": [],
   "source": [
    "plt.figure(figsize=(20, 4))\n",
    "loc = plticker.LinearLocator(9)\n",
    "for index, (image, label) in enumerate(zip(digits.images[0:5], digits.target[0:5])):\n",
    "    ax = plt.subplot(1, 5, index + 1)\n",
    "    ax.xaxis.set_major_locator(loc)\n",
    "    ax.yaxis.set_major_locator(loc)\n",
    "    ax.set_xticklabels([])\n",
    "    ax.set_yticklabels([])\n",
    "    plt.grid(True, 'both', 'both', c='green', linewidth=1.5)\n",
    "    plt.imshow(image, cmap=plt.cm.gray)\n",
    "    plt.title('Target label: %i\\n' % label, fontsize = 20)"
   ]
  },
  {
   "cell_type": "markdown",
   "metadata": {},
   "source": [
    "### Training and Test Sets"
   ]
  },
  {
   "cell_type": "code",
   "execution_count": null,
   "metadata": {},
   "outputs": [],
   "source": [
    "# Split the data into 75% training and 25% testing\n",
    "x_train, x_test, y_train, y_test = train_test_split(\n",
    "    digits.data, digits.target, test_size=0.25, random_state=0)\n",
    "# x is our 8x8 digit matrices\n",
    "# y is our labels"
   ]
  },
  {
   "cell_type": "markdown",
   "metadata": {},
   "source": [
    "### Choosing a scikit-learn model\n",
    "Choosing the model we want to use is a very important part of machine learning. An important step of that is analyzing your inputs and outputs.\n",
    " - Supervised or unsupervised? Is the training data labeled?\n",
    " - What is our input data? What features are we looking out for?\n",
    " - What is our output data? Is it numerical or categorical?\n",
    " - Do we want to use regression, neural networks, or some other kind of model?"
   ]
  },
  {
   "cell_type": "code",
   "execution_count": null,
   "metadata": {},
   "outputs": [],
   "source": [
    "from sklearn.linear_model import LogisticRegression\n",
    "logReg = LogisticRegression()\n",
    "logReg.fit(x_train, y_train)\n",
    "print(logReg.score(x_test, y_test))"
   ]
  },
  {
   "cell_type": "code",
   "execution_count": null,
   "metadata": {},
   "outputs": [],
   "source": [
    "predictions = logReg.predict(x_test)\n",
    "index = 0\n",
    "misclassifiedIndex = []\n",
    "for predict, actual in zip(predictions, y_test):\n",
    "    if predict != actual: \n",
    "        misclassifiedIndex.append(index)\n",
    "    index +=1\n",
    "\n",
    "plt.figure(figsize=(20, 4))\n",
    "for plotIndex, wrong in enumerate(misclassifiedIndex[10:15]):\n",
    "    plt.subplot(1, 5, plotIndex + 1)\n",
    "    plt.imshow(np.reshape(x_test[wrong], (8,8)), cmap=plt.cm.gray)\n",
    "    plt.title('Predicted: {}, Actual: {}'.format(predictions[wrong], y_test[wrong]), fontsize = 15)"
   ]
  },
  {
   "cell_type": "code",
   "execution_count": null,
   "metadata": {},
   "outputs": [],
   "source": [
    "ourData = np.array([\n",
    "    [15,15,15,15,15,15,15,15]\n",
    "    ,[15,0,0,0,0,0,0,15]\n",
    "    ,[15,0,0,0,0,0,0,15]\n",
    "    ,[15,0,0,0,0,0,0,15]\n",
    "    ,[15,0,0,0,0,0,0,15]\n",
    "    ,[15,0,0,0,0,0,0,15]\n",
    "    ,[15,0,0,0,0,0,0,15]\n",
    "    ,[15,15,15,15,15,15,15,15]\n",
    "], dtype='float64')\n",
    "\n",
    "plt.imshow(ourData)\n",
    "plt.title('Predicted: %i\\n' % logReg.predict(ourData.reshape(1,-1)), fontsize=20)"
   ]
  }
 ],
 "metadata": {
  "kernelspec": {
   "display_name": "Python 3",
   "language": "python",
   "name": "python3"
  },
  "language_info": {
   "codemirror_mode": {
    "name": "ipython",
    "version": 3
   },
   "file_extension": ".py",
   "mimetype": "text/x-python",
   "name": "python",
   "nbconvert_exporter": "python",
   "pygments_lexer": "ipython3",
   "version": "3.8.5"
  }
 },
 "nbformat": 4,
 "nbformat_minor": 4
}
